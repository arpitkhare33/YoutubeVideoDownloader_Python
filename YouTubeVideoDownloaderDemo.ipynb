{
 "cells": [
  {
   "cell_type": "code",
   "execution_count": 2,
   "id": "1f492f11",
   "metadata": {},
   "outputs": [
    {
     "name": "stdout",
     "output_type": "stream",
     "text": [
      "Collecting pytube\n",
      "  Downloading pytube-11.0.2-py3-none-any.whl (56 kB)\n",
      "Installing collected packages: pytube\n",
      "Successfully installed pytube-11.0.2\n",
      "Note: you may need to restart the kernel to use updated packages.\n"
     ]
    }
   ],
   "source": [
    "pip install pytube"
   ]
  },
  {
   "cell_type": "code",
   "execution_count": 1,
   "id": "6c01e6d1",
   "metadata": {},
   "outputs": [
    {
     "name": "stdout",
     "output_type": "stream",
     "text": [
      "Enter your URL herehttps://www.youtube.com/watch?v=gaD0AadsfMw\n",
      "*********************Video Title************************\n",
      "Humaare Saath Shri Raghunath\n"
     ]
    }
   ],
   "source": [
    "#import the package\n",
    "from pytube import YouTube\n",
    "\n",
    "try:\n",
    "    url = input('Enter your URL here')\n",
    "    my_video = YouTube(url)\n",
    "\n",
    "    print(\"*********************Video Title************************\")\n",
    "    #get Video Title\n",
    "    print(my_video.title)\n",
    "\n",
    "\n",
    "    #set stream resolution\n",
    "    my_video = my_video.streams.get_highest_resolution()\n",
    "\n",
    "\n",
    "\n",
    "    #Download video\n",
    "    my_video.download()\n",
    "\n",
    "except:\n",
    "    print(\"The video URL is invalid\")"
   ]
  },
  {
   "cell_type": "code",
   "execution_count": null,
   "id": "c0008839",
   "metadata": {},
   "outputs": [],
   "source": []
  }
 ],
 "metadata": {
  "kernelspec": {
   "display_name": "Python 3",
   "language": "python",
   "name": "python3"
  },
  "language_info": {
   "codemirror_mode": {
    "name": "ipython",
    "version": 3
   },
   "file_extension": ".py",
   "mimetype": "text/x-python",
   "name": "python",
   "nbconvert_exporter": "python",
   "pygments_lexer": "ipython3",
   "version": "3.8.8"
  }
 },
 "nbformat": 4,
 "nbformat_minor": 5
}
